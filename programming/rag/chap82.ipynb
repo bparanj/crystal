{
 "cells": [
  {
   "cell_type": "code",
   "execution_count": 1,
   "id": "ca1075cd-5b55-44be-a709-7bc1d749532c",
   "metadata": {},
   "outputs": [
    {
     "name": "stdout",
     "output_type": "stream",
     "text": [
      "Note: you may need to restart the kernel to use updated packages.\n",
      "Collecting rank_bm25==0.2.2\n",
      "  Downloading rank_bm25-0.2.2-py3-none-any.whl.metadata (3.2 kB)\n",
      "Requirement already satisfied: numpy in /Library/Frameworks/Python.framework/Versions/3.12/lib/python3.12/site-packages (from rank_bm25==0.2.2) (1.26.4)\n",
      "Downloading rank_bm25-0.2.2-py3-none-any.whl (8.6 kB)\n",
      "Installing collected packages: rank_bm25\n",
      "Successfully installed rank_bm25-0.2.2\n",
      "Note: you may need to restart the kernel to use updated packages.\n"
     ]
    }
   ],
   "source": [
    "%pip install PyPDF2==3.0.1 -q --user\n",
    "%pip install rank_bm25==0.2.2"
   ]
  },
  {
   "cell_type": "code",
   "execution_count": 59,
   "id": "f13aa55e-9c19-41d4-8b73-b7c62082fd2d",
   "metadata": {},
   "outputs": [],
   "source": [
    "import os\n",
    "os.environ['USER_AGENT']='RAGUserAgent'\n",
    "import openai\n",
    "from langchain_openai import ChatOpenAI, OpenAIEmbeddings\n",
    "from langchain import hub\n",
    "from langchain_core.output_parsers import StrOutputParser\n",
    "from langchain_core.runnables import RunnablePassthrough\n",
    "import chromadb\n",
    "from langchain_community.vectorstores import Chroma\n",
    "from langchain_core.runnables import RunnableParallel\n",
    "from dotenv import load_dotenv, find_dotenv\n",
    "from langchain_core.prompts import PromptTemplate\n",
    "\n",
    "from PyPDF2 import PdfReader\n",
    "from langchain.text_splitter import RecursiveCharacterTextSplitter\n",
    "from langchain.docstore.document import Document\n",
    "from langchain_community.retrievers import BM25Retriever"
   ]
  },
  {
   "cell_type": "code",
   "execution_count": 60,
   "id": "0d5fc8e6-ec64-437f-aca0-a05bf2774398",
   "metadata": {},
   "outputs": [],
   "source": [
    "openai.api_key = os.getenv('OPENAI_API_KEY')\n",
    "embedding_function = OpenAIEmbeddings()\n",
    "llm = ChatOpenAI(model_name=\"gpt-4o-mini\", temperature=0)\n",
    "pdf_path = \"google-2023-environmental-report.pdf\""
   ]
  },
  {
   "cell_type": "code",
   "execution_count": 61,
   "id": "5ec6635d-35a3-41f8-8a7e-def0261e58ea",
   "metadata": {},
   "outputs": [],
   "source": [
    "collection_name = \"google_environmental_report\"\n",
    "str_output_parser = StrOutputParser()\n",
    "user_query = \"What are Google's environmental initiatives?\""
   ]
  },
  {
   "cell_type": "code",
   "execution_count": 62,
   "id": "9b6fdc10-1c35-49a9-9d0e-6290de94a8a5",
   "metadata": {},
   "outputs": [],
   "source": [
    "pdf_reader = PdfReader(pdf_path)\n",
    "text = \"\"\n",
    "for page in pdf_reader.pages:\n",
    "    text += page.extract_text()"
   ]
  },
  {
   "cell_type": "code",
   "execution_count": 63,
   "id": "5ad257a0-8896-4b7e-b44a-2725100ec21c",
   "metadata": {},
   "outputs": [],
   "source": [
    "character_splitter = RecursiveCharacterTextSplitter(\n",
    "    separators=[\"\\n\\n\", \"\\n\", \". \", \" \", \"\"],\n",
    "    chunk_size=1000,\n",
    "    chunk_overlap = 200\n",
    ")\n",
    "splits = character_splitter.split_text(text)\n"
   ]
  },
  {
   "cell_type": "code",
   "execution_count": 64,
   "id": "8f3afb9c-d94a-40c8-8158-89d3a6a6a476",
   "metadata": {},
   "outputs": [],
   "source": [
    "documents = [Document(page_content=text, metadata={\"id\": str(i)}) for i, text in enumerate(splits)]"
   ]
  },
  {
   "cell_type": "code",
   "execution_count": 65,
   "id": "ce53cbbd-0dcc-4072-b2d3-ec5bce371942",
   "metadata": {},
   "outputs": [],
   "source": [
    "chroma_client = chromadb.Client()\n",
    "vectorstore = Chroma.from_documents(documents=documents, embedding=embedding_function, collection_name=collection_name, client=chroma_client)"
   ]
  },
  {
   "cell_type": "code",
   "execution_count": 66,
   "id": "a32ad5e1-dd56-48b9-a6a0-96e5eca6e247",
   "metadata": {},
   "outputs": [],
   "source": [
    "dense_retriever = vectorstore.as_retriever(search_kwargs={\"k\": 10})"
   ]
  },
  {
   "cell_type": "code",
   "execution_count": 67,
   "id": "2fad446f-ae3a-41d4-8a20-03e544120893",
   "metadata": {},
   "outputs": [],
   "source": [
    "sparse_retriever = BM25Retriever.from_documents(documents, k=10)"
   ]
  },
  {
   "cell_type": "code",
   "execution_count": 68,
   "id": "3aacaad9-d515-4990-86ea-90762772c720",
   "metadata": {},
   "outputs": [],
   "source": [
    "def hybrid_search(query, k=10, dense_weight=0.5, sparse_weight=0.5):\n",
    "    dense_docs = dense_retriever.get_relevant_documents(query)[:k]\n",
    "    dense_doc_ids = [doc.metadata['id'] for doc in dense_docs]\n",
    "    print(\"\\nCompare IDs:\")\n",
    "    print(\"dense IDs:\", dense_doc_ids)\n",
    "    sparse_docs = sparse_retriever.get_relevant_documents(query)[:k]\n",
    "    sparse_doc_ids = [doc.metadata['id'] for doc in sparse_docs]\n",
    "    print(\"sparse IDs: \", sparse_doc_ids)\n",
    "    \n",
    "    all_doc_ids = list(set(dense_doc_ids + sparse_doc_ids))\n",
    "    dense_reciprocal_ranks = {doc_id: 0.0 for doc_id in all_doc_ids}\n",
    "    sparse_reciprocal_ranks = {doc_id: 0.0 for doc_id in all_doc_ids}\n",
    "    \n",
    "    for i, doc_id in enumerate(dense_doc_ids):\n",
    "        dense_reciprocal_ranks[doc_id] = 1.0 / (i + 1)\n",
    "\n",
    "    for i, doc_id in enumerate(sparse_doc_ids):\n",
    "        sparse_reciprocal_ranks[doc_id] = 1.0 / (i + 1)\n",
    "\n",
    "    combined_reciprocal_ranks = {doc_id: 0.0 for doc_id in all_doc_ids}\n",
    "    for doc_id in all_doc_ids:\n",
    "        combined_reciprocal_ranks[doc_id] = dense_weight * dense_reciprocal_ranks[doc_id] + sparse_weight * sparse_reciprocal_ranks[doc_id]\n",
    "\n",
    "    sorted_doc_ids = sorted(all_doc_ids, key = lambda doc_id: combined_reciprocal_ranks[doc_id], reverse=True)\n",
    "    sorted_docs = []\n",
    "    all_docs = dense_docs + sparse_docs\n",
    "    for doc_id in sorted_doc_ids:\n",
    "        matching_docs = [doc for doc in all_docs if doc.metadata['id'] == doc_id]\n",
    "        if matching_docs:\n",
    "            doc = matching_docs[0]\n",
    "            doc.metadata['score'] = combined_reciprocal_ranks[doc_id]\n",
    "            doc.metadata['rank'] = sorted_doc_ids.index(doc_id) + 1\n",
    "            if len(matching_docs) > 1:\n",
    "                doc.metadata['retriever'] = 'both'\n",
    "            elif doc in dense_docs:\n",
    "                doc.metadata['retriever'] = 'dense'\n",
    "            else:\n",
    "                doc.metadata['retriever'] = 'sparse'\n",
    "            sorted_docs.append(doc)\n",
    "\n",
    "    return sorted_docs[:k]\n",
    "        \n",
    "        \n"
   ]
  },
  {
   "cell_type": "code",
   "execution_count": 69,
   "id": "26ea21ab-cbc2-4129-a2dd-5741f3ea37b2",
   "metadata": {},
   "outputs": [
    {
     "name": "stderr",
     "output_type": "stream",
     "text": [
      "/Library/Frameworks/Python.framework/Versions/3.12/lib/python3.12/site-packages/langsmith/client.py:241: LangSmithMissingAPIKeyWarning: API key must be provided when using hosted LangSmith API\n",
      "  warnings.warn(\n"
     ]
    }
   ],
   "source": [
    "prompt = hub.pull(\"jclemens24/rag-prompt\")"
   ]
  },
  {
   "cell_type": "code",
   "execution_count": 70,
   "id": "5eb7fbc5-24c5-4ff4-af40-413405ef3167",
   "metadata": {},
   "outputs": [],
   "source": [
    "relevance_prompt_template = PromptTemplate.from_template(\n",
    "    \"\"\"\n",
    "    Given the following question and retrieved context, determine if the context is relevant to the question.\n",
    "    Provide a score from 1 to 5, where 1 is not at all relevant and 5 is highly relevant.\n",
    "    Return ONLY the numeric score, without any additional text or explanation.\n",
    "\n",
    "    Question: {question}\n",
    "    Retrieved Context: {retrieved_context}\n",
    "\n",
    "    Relevance Score:\"\"\"\n",
    ")"
   ]
  },
  {
   "cell_type": "code",
   "execution_count": 71,
   "id": "0d3d40ea-a809-46d9-a1d5-e5f0b8e8bf80",
   "metadata": {},
   "outputs": [],
   "source": [
    "# Post-processing\n",
    "def format_docs(docs):\n",
    "    return \"\\n\\n\".join(doc.page_content for doc in docs)"
   ]
  },
  {
   "cell_type": "code",
   "execution_count": 72,
   "id": "666a072c-430d-43ba-a3e2-58b3aba2a041",
   "metadata": {},
   "outputs": [],
   "source": [
    "def extract_score(llm_output):\n",
    "    try:\n",
    "        score = float(llm_output.strip())\n",
    "        return score\n",
    "    except ValueError:\n",
    "        return 0\n",
    "\n",
    "# Chain it all together with LangChain\n",
    "def conditional_answer(x):\n",
    "    relevance_score = extract_score(x['relevance_score'])\n",
    "    if relevance_score < 4:\n",
    "        return \"I don't know.\"\n",
    "    else:\n",
    "        return x['answer']"
   ]
  },
  {
   "cell_type": "code",
   "execution_count": 73,
   "id": "cc3e7b31-24cd-4bba-a70a-d898984dc39a",
   "metadata": {},
   "outputs": [],
   "source": [
    "rag_chain_from_docs = (\n",
    "    RunnablePassthrough.assign(context = (lambda x: format_docs(x[\"context\"])))\n",
    "    | RunnableParallel(\n",
    "        {\"relevance_score\": (\n",
    "            RunnablePassthrough()\n",
    "            | (lambda x: relevance_prompt_template.format(question = x['question'], retrieved_context = x['context']))\n",
    "            | llm\n",
    "            | str_output_parser\n",
    "        ), \"answer\": (\n",
    "            RunnablePassthrough()\n",
    "            | prompt\n",
    "            | llm\n",
    "            | str_output_parser\n",
    "        )}\n",
    "    )\n",
    "    | RunnablePassthrough().assign(final_answer = conditional_answer)\n",
    ")\n"
   ]
  },
  {
   "cell_type": "code",
   "execution_count": 74,
   "id": "17af8a32-6829-4dcc-afc1-8e4d34b122a6",
   "metadata": {},
   "outputs": [],
   "source": [
    "rag_chain_with_source = RunnableParallel(\n",
    "    {\"context\": hybrid_search, \"question\": RunnablePassthrough()}).assign(answer = rag_chain_from_docs)"
   ]
  },
  {
   "cell_type": "code",
   "execution_count": 75,
   "id": "1b00e257-82a4-4fda-81cb-1486cfde52de",
   "metadata": {},
   "outputs": [
    {
     "name": "stdout",
     "output_type": "stream",
     "text": [
      "\n",
      "Compare IDs:\n",
      "dense IDs: ['12', '12', '12', '12', '311', '311', '311', '311', '13', '13']\n",
      "sparse IDs:  ['150', '309', '298', '311', '328', '415', '139', '432', '91', '22']\n",
      "\n",
      "Original Question: What are Google's environmental initiatives?\n",
      "\n",
      "Relevance Score: 5\n",
      "\n",
      "Final Answer:\n",
      " Google's environmental initiatives include a focus on sustainability across various aspects of their operations and supply chain. They engage with suppliers to reduce energy consumption and greenhouse gas (GHG) emissions, requiring them to report environmental data and comply with environmental management standards. Google conducts audits to ensure compliance with environmental criteria and assesses risks related to their operations and supply chain.\n",
      "\n",
      "In 2022, Google aimed to help 1 billion people make more sustainable choices through features in their products, such as eco-friendly routing in Google Maps and energy efficiency features in Google Nest thermostats. They aspire to help reduce 1 gigaton of carbon equivalent emissions annually by 2030.\n",
      "\n",
      "Google is also involved in public policy advocacy for strong climate action and engages with coalitions and sustainability initiatives, such as the RE-Source Platform. Their data centers are designed for maximum efficiency in energy, water, and material use, and they are committed to using renewable energy sources. Additionally, they leverage data analytics and AI to help organizations optimize their operations for sustainability.\n",
      "\n",
      "\n",
      "Retrieved Documents:\n",
      "Document 1: Document ID: 150 Score: 0.5 Rank: 1 Retriever: sparse\n",
      "\n",
      "Content:\n",
      "sustainability, and we’re partnering with them to develop decarbonization roadmaps and build essential data infrastructure to accurately quantify emissions and reductions across the value chain.\n",
      "We engage with our suppliers—including hardware \n",
      "manufacturing and indirect services suppliers—to help reduce their energy consumption and GHG emissions, as stated in our Supplier Code of Conduct , which all \n",
      "suppliers are required to sign. We assess suppliers’ practices to report, manage, and reduce their emissions and incorporate this into our supplier scorecard.\n",
      "Reporting  \n",
      "environmental data\n",
      "We expect all our suppliers to report environmental data,\n",
      "\n",
      "Document 2: Document ID: 309 Score: 0.25 Rank: 2 Retriever: sparse\n",
      "\n",
      "Content:\n",
      "that enable us to ensure that those we partner with are responsible environmental stewards. Along with having suppliers evaluate their operations, we perform our own ongoing due diligence and audits to verify compliance and to understand our supply chain’s current and potential risks.\n",
      "When we find that a supplier isn’t complying, we expect\n",
      "\n",
      "Document 3: Document ID: 311 Score: 0.1875 Rank: 3 Retriever: both\n",
      "\n",
      "Content:\n",
      "In 2022, we audited a subset of our suppliers to verify \n",
      "compliance for the following environmental criteria: implementation of environmental management systems, environmental permits and reporting, product content restrictions, and resource efficiency, as well as management of hazardous substances, wastewater,  solid waste, and air emissions.\n",
      "Googlers chat among indoor plants at our Pier 57 office in New York City.   79\n",
      "2023 Environmental Report  Public policy and advocacy\n",
      "We know that strong public policy action is critical to \n",
      "creating prosperous, equitable, and resilient low-carbon economies around the world. \n",
      "The United Nations Framework Convention on Climate \n",
      "Change (UNFCCC)’s 2015 Paris Agreement states that humanity must “keep global temperature rise this century well below 2°C above pre-industrial levels.”\n",
      " 143 Google\n",
      "\n",
      "Document 4: Document ID: 298 Score: 0.16666666666666666 Rank: 4 Retriever: sparse\n",
      "\n",
      "Content:\n",
      "2023 Environmental Report  Risk management\n",
      "Our Enterprise Risk Management (ERM) team is responsible \n",
      "for identifying, assessing, and reporting risks related to the company’s operations, financial performance, and reputation. As with financial, operational, and strategic risks, the team assesses environmental risks as part of the company’s overall risk management framework. The risks and opportunities identified through this process support public disclosures and inform Google’s environmental sustainability strategy. Our Chief Sustainability Officer and sustainability teams work to address risks by identifying opportunities to reduce the company’s environmental impacts from its operations and value chain, and through improving climate resilience. \n",
      "Climate-related \n",
      "risks\n",
      "Climate-related risks and opportunities have long time\n",
      "\n",
      "Document 5: Document ID: 12 Score: 0.125 Rank: 5 Retriever: both\n",
      "\n",
      "Content:\n",
      "The opportunity we have through our products and \n",
      "platforms is reflected in our updated environmental sustainability strategy, which focuses on where we can make the most significant positive impact. Our work is organized around three key pillars: empowering individuals to take action, working together with our partners and customers, and operating our business sustainably.\n",
      "In 2022, we reached our goal to help 1 billion people \n",
      "make more sustainable choices through our products. We achieved this by offering sustainability features like eco-friendly routing in Google Maps, energy efficiency features in Google Nest thermostats, and carbon emissions information in Google Flights. Looking ahead, our aspiration is to help individuals, cities, and other partners collectively reduce 1 gigaton of their carbon equivalent emissions annually by 2030.\n",
      " 2\n",
      "\n",
      "Document 6: Document ID: 328 Score: 0.1 Rank: 6 Retriever: sparse\n",
      "\n",
      "Content:\n",
      "Sustainable \n",
      "consumption of \n",
      "public goods (e.g., \n",
      "“right to repair”)Google submitted comments to the European Commission’s public consultation regarding \n",
      "the promotion of repair and reuse of goods. We shared our views on the core principles to \n",
      "consider when introducing policy measures to promote repair and reuse horizontally, and for \n",
      "smartphones and tablets specifically.\n",
      "Body of European \n",
      "Regulators \n",
      "for Electronic \n",
      "Communications \n",
      "(BEREC)Google responded to a questionnaire  by BEREC in view of the development of key performance \n",
      "indicators to characterize the environmental impact of electronic communications, networks, \n",
      "devices, and services. We provided information about our environmental reporting practices \n",
      "and suggestions to help identify which indicators would provide relevant environmental \n",
      "information.\n",
      "Engagement with coalitions and sustainability initiatives\n",
      "RE-Source PlatformGoogle is a strategic partner and steering committee member of the RE-Source Platform, the\n",
      "\n",
      "Document 7: Document ID: 415 Score: 0.08333333333333333 Rank: 7 Retriever: sparse\n",
      "\n",
      "Content:\n",
      "chemistry\n",
      "• Governance and engagement - Risk management; Stakeholder engagement - Supplier \n",
      "engagement\n",
      "Engagement with external targets and initiatives related to sustainable \n",
      "supply chains • Wor king together - Our approach - Supporting partners - Cloud customers and  \n",
      "commercial partners\n",
      "• Governance and engagement - PartnershipsC12. Engagement\n",
      "Goals and targets Supplier environmental assessment-related targets• Introd uction - Targets and progress summary\n",
      "• Oper ating sustainably - Circular economy - Our approach - Working with suppliers\n",
      "Performance indicators New suppliers that were screened using environmental criteria • Governance and engagement - Risk management C12. Engagement\n",
      "Supplier renewable energy• Opera ting sustainably - Net-zero carbon - Our approach - Advancing carbon-free energy - \n",
      "CFE inv estmentsC2. Risks and opportunities\n",
      "Negative environmental impacts in the supply chain and actions taken• Oper ating sustainably - Circular economy - Supply chain\n",
      "\n",
      "Document 8: Document ID: 139 Score: 0.07142857142857142 Rank: 8 Retriever: sparse\n",
      "\n",
      "Content:\n",
      "development and deployment of these materials.\n",
      "In 2022, we filed a patent for using machine \n",
      "learning technology to improve our ability to prevent emissions from refrigerant leaks.\n",
      "Data centers\n",
      "Google’s data centers are the engine of our company, powering products like Gmail, Google Cloud, Search, and YouTube for billions of people around the world. We’ve worked to make Google’s data centers some of the most efficient in the world, improving their environmental performance even as demand for our products has risen. We’ve done this by designing, building, and operating each one to maximize efficient use of energy, water, \n",
      "and ma\n",
      "terials.\n",
      "Our long-standing data center efficiency  efforts are\n",
      "\n",
      "Document 9: Document ID: 432 Score: 0.0625 Rank: 9 Retriever: sparse\n",
      "\n",
      "Content:\n",
      "2023 Environmental Report  market structures. If no such structure exists, then Google defines the grid \n",
      "region as the electricity-balancing authority where our data centers are \n",
      "located. Outside of the United States, the grid region most often refers to \n",
      "the geographic boundary of a country, because most grid system operators \n",
      "operate at the national level. Certain regions that span multiple countries \n",
      "are well interconnected and could be considered as one grid; however, \n",
      "our grid mix calculations already include import and export considerations \n",
      "and therefore take into account power flows from neighboring grids. In \n",
      "the future, we may update our definition as we work with grid operators to \n",
      "better understand how transmission constraints or congestion impact CFE \n",
      "measurement within and across grid regions.\n",
      "91 Contracted CFE is the hourly electricity production from clean energy \n",
      "projects whose electricity and associated environmental attributes are\n",
      "\n",
      "Document 10: Document ID: 91 Score: 0.05555555555555555 Rank: 10 Retriever: sparse\n",
      "\n",
      "Content:\n",
      "EV Suitability Assessment helps organizations monitor their fleet of vehicles and make choices that minimize environmental impact.\n",
      "Data analytics tools from Google Cloud are also helping \n",
      "airlines. Lufthansa Group partnered with Google Cloud \n",
      "and Google Research to develop a platform that facilitates better planning and management of daily flight operations.\n",
      "We’re helping organizations harness \n",
      "the power of data and AI to drive more intelligent supply chains.Renewable energy\n",
      "Wind farms are an important source of carbon-free electricity, but wind can fluctuate depending on the weather. Through Google Cloud, customers like Engie  (a global energy and renewables supplier) can optimize their wind portfolio in short-term power markets by predicting wind power output 36 hours ahead of actual generation  and making optimal hourly delivery \n",
      "commitments to the grid, a full day in advance.  \n",
      "Sustainability partner \n",
      "solutions\n",
      "Partner solutions are important to scale the impact for our\n",
      "\n"
     ]
    }
   ],
   "source": [
    "result = rag_chain_with_source.invoke(user_query)\n",
    "relevance_score = result['answer']['relevance_score']\n",
    "final_answer = result['answer']['final_answer']\n",
    "retrieved_docs = result['context']\n",
    "\n",
    "print(f\"\\nOriginal Question: {user_query}\\n\")\n",
    "print(f\"Relevance Score: {relevance_score}\\n\")\n",
    "print(f\"Final Answer:\\n {final_answer}\\n\\n\")\n",
    "\n",
    "print(\"Retrieved Documents:\")\n",
    "for i, doc in enumerate(retrieved_docs, start=1):\n",
    "    doc_id = doc.metadata['id']\n",
    "    doc_score = doc.metadata.get('score', 'N/A')\n",
    "    doc_rank = doc.metadata.get('rank', 'N/A')\n",
    "    doc_retriever = doc.metadata.get('retriever', 'N/A')\n",
    "    print(f\"Document {i}: Document ID: {doc_id} Score: {doc_score} Rank: {doc_rank} Retriever: {doc_retriever}\\n\")\n",
    "    print(f\"Content:\\n{doc.page_content}\\n\")"
   ]
  },
  {
   "cell_type": "code",
   "execution_count": null,
   "id": "502467b0-8886-4d2c-9b29-d70761f39566",
   "metadata": {},
   "outputs": [],
   "source": []
  }
 ],
 "metadata": {
  "kernelspec": {
   "display_name": "Python 3 (ipykernel)",
   "language": "python",
   "name": "python3"
  },
  "language_info": {
   "codemirror_mode": {
    "name": "ipython",
    "version": 3
   },
   "file_extension": ".py",
   "mimetype": "text/x-python",
   "name": "python",
   "nbconvert_exporter": "python",
   "pygments_lexer": "ipython3",
   "version": "3.12.0"
  }
 },
 "nbformat": 4,
 "nbformat_minor": 5
}
