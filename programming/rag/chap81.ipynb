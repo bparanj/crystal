{
 "cells": [
  {
   "cell_type": "code",
   "execution_count": 1,
   "id": "f99afc7d-cf86-490b-a5f0-d04d13976a7b",
   "metadata": {},
   "outputs": [
    {
     "name": "stdout",
     "output_type": "stream",
     "text": [
      "\u001b[33mWARNING: Skipping sentence_transformers as it is not installed.\u001b[0m\u001b[33m\n",
      "\u001b[0mNote: you may need to restart the kernel to use updated packages.\n",
      "Note: you may need to restart the kernel to use updated packages.\n"
     ]
    }
   ],
   "source": [
    "%pip uninstall -y sentence_transformers\n",
    "%pip install sentence_transformers==3.1.1 -q --user"
   ]
  },
  {
   "cell_type": "code",
   "execution_count": 1,
   "id": "ea1d38c7-1b8b-46fa-8917-f1c3ed3c0ad9",
   "metadata": {},
   "outputs": [],
   "source": [
    "import numpy as np\n",
    "from sentence_transformers import SentenceTransformer"
   ]
  },
  {
   "cell_type": "code",
   "execution_count": 2,
   "id": "cd840153-6d0d-466e-a65f-8a885f82210c",
   "metadata": {},
   "outputs": [
    {
     "data": {
      "application/vnd.jupyter.widget-view+json": {
       "model_id": "45964bcb439e44248f93e248d664ce04",
       "version_major": 2,
       "version_minor": 0
      },
      "text/plain": [
       "modules.json:   0%|          | 0.00/229 [00:00<?, ?B/s]"
      ]
     },
     "metadata": {},
     "output_type": "display_data"
    },
    {
     "data": {
      "application/vnd.jupyter.widget-view+json": {
       "model_id": "eefe14cef6d3452580c388c6ec456bce",
       "version_major": 2,
       "version_minor": 0
      },
      "text/plain": [
       "config_sentence_transformers.json:   0%|          | 0.00/122 [00:00<?, ?B/s]"
      ]
     },
     "metadata": {},
     "output_type": "display_data"
    },
    {
     "data": {
      "application/vnd.jupyter.widget-view+json": {
       "model_id": "f43b60762a5146cbbb5c4d09c93f6523",
       "version_major": 2,
       "version_minor": 0
      },
      "text/plain": [
       "README.md:   0%|          | 0.00/4.04k [00:00<?, ?B/s]"
      ]
     },
     "metadata": {},
     "output_type": "display_data"
    },
    {
     "data": {
      "application/vnd.jupyter.widget-view+json": {
       "model_id": "85d6f6b905c44f5087c5ac3776455b9e",
       "version_major": 2,
       "version_minor": 0
      },
      "text/plain": [
       "sentence_bert_config.json:   0%|          | 0.00/53.0 [00:00<?, ?B/s]"
      ]
     },
     "metadata": {},
     "output_type": "display_data"
    },
    {
     "data": {
      "application/vnd.jupyter.widget-view+json": {
       "model_id": "aabfd031ee7940b696f3cb190d193899",
       "version_major": 2,
       "version_minor": 0
      },
      "text/plain": [
       "config.json:   0%|          | 0.00/629 [00:00<?, ?B/s]"
      ]
     },
     "metadata": {},
     "output_type": "display_data"
    },
    {
     "data": {
      "application/vnd.jupyter.widget-view+json": {
       "model_id": "45d1193bc29c43feaf9869987eea777d",
       "version_major": 2,
       "version_minor": 0
      },
      "text/plain": [
       "model.safetensors:   0%|          | 0.00/69.6M [00:00<?, ?B/s]"
      ]
     },
     "metadata": {},
     "output_type": "display_data"
    },
    {
     "data": {
      "application/vnd.jupyter.widget-view+json": {
       "model_id": "449630ecdd9a42ca8753bcd1f31f75b6",
       "version_major": 2,
       "version_minor": 0
      },
      "text/plain": [
       "tokenizer_config.json:   0%|          | 0.00/314 [00:00<?, ?B/s]"
      ]
     },
     "metadata": {},
     "output_type": "display_data"
    },
    {
     "data": {
      "application/vnd.jupyter.widget-view+json": {
       "model_id": "b50171da3fe14ecea9b2bea7c705faad",
       "version_major": 2,
       "version_minor": 0
      },
      "text/plain": [
       "vocab.txt:   0%|          | 0.00/232k [00:00<?, ?B/s]"
      ]
     },
     "metadata": {},
     "output_type": "display_data"
    },
    {
     "data": {
      "application/vnd.jupyter.widget-view+json": {
       "model_id": "f5b9a7cfaa76447088604341dc32b6f6",
       "version_major": 2,
       "version_minor": 0
      },
      "text/plain": [
       "tokenizer.json:   0%|          | 0.00/466k [00:00<?, ?B/s]"
      ]
     },
     "metadata": {},
     "output_type": "display_data"
    },
    {
     "data": {
      "application/vnd.jupyter.widget-view+json": {
       "model_id": "ed5f7f0398db480795c8134c63164e02",
       "version_major": 2,
       "version_minor": 0
      },
      "text/plain": [
       "special_tokens_map.json:   0%|          | 0.00/112 [00:00<?, ?B/s]"
      ]
     },
     "metadata": {},
     "output_type": "display_data"
    },
    {
     "name": "stderr",
     "output_type": "stream",
     "text": [
      "/Library/Frameworks/Python.framework/Versions/3.12/lib/python3.12/site-packages/transformers/tokenization_utils_base.py:1617: FutureWarning: `clean_up_tokenization_spaces` was not set. It will be set to `True` by default. This behavior will be deprecated in transformers v4.45, and will be then set to `False` by default. For more details check this issue: https://github.com/huggingface/transformers/issues/31884\n",
      "  warnings.warn(\n"
     ]
    },
    {
     "data": {
      "application/vnd.jupyter.widget-view+json": {
       "model_id": "6d3c40cb3f0346a182c575df82e499cb",
       "version_major": 2,
       "version_minor": 0
      },
      "text/plain": [
       "1_Pooling/config.json:   0%|          | 0.00/190 [00:00<?, ?B/s]"
      ]
     },
     "metadata": {},
     "output_type": "display_data"
    }
   ],
   "source": [
    "model = SentenceTransformer('paraphrase-MiniLM-L3-v2')"
   ]
  },
  {
   "cell_type": "code",
   "execution_count": 3,
   "id": "e2941b83-c6d8-471a-a482-19d3081609d4",
   "metadata": {},
   "outputs": [],
   "source": [
    "sentence = [\n",
    "        'This blanket has such a cozy temperature for me!',\n",
    "    'I am so much warmer and snug using this spread!',\n",
    "    'Taylor Swift was 34 years old in 2024.']\n"
   ]
  },
  {
   "cell_type": "code",
   "execution_count": 4,
   "id": "a2431d1a-9d13-41e4-b128-d287aae3b607",
   "metadata": {},
   "outputs": [
    {
     "name": "stdout",
     "output_type": "stream",
     "text": [
      "[[ 0.4228858   0.11801957  0.58989066 ... -0.07997325  0.16128041\n",
      "   0.15290563]\n",
      " [ 0.08642219 -0.01953127  0.3944788  ... -0.19359109  0.27264535\n",
      "   0.2338672 ]\n",
      " [ 0.02534107  0.47614327  0.1154424  ... -0.10391905  0.58169025\n",
      "  -0.7600805 ]]\n"
     ]
    },
    {
     "data": {
      "text/plain": [
       "(3, 384)"
      ]
     },
     "execution_count": 4,
     "metadata": {},
     "output_type": "execute_result"
    }
   ],
   "source": [
    "embedding = model.encode(sentence)\n",
    "\n",
    "print(embedding)\n",
    "embedding.shape"
   ]
  },
  {
   "cell_type": "code",
   "execution_count": 5,
   "id": "14ac0949-5cfb-4cec-be99-e53f5e86c9fd",
   "metadata": {},
   "outputs": [],
   "source": [
    "def euclidean_distance(vec1, vec2):\n",
    "    return np.linalg.norm(vec1 - vec2)"
   ]
  },
  {
   "cell_type": "code",
   "execution_count": 6,
   "id": "34c20813-e4c9-4650-8b53-848531e8b51a",
   "metadata": {},
   "outputs": [
    {
     "name": "stdout",
     "output_type": "stream",
     "text": [
      "Eculidean Distance: Review 1 vs Review 2: 4.6202903\n",
      "Euclidean Distance: Review 1 vs Random Comment: 7.3135476\n",
      "Euclidean Distance: Review 2 vs Random Comment: 6.3389034\n"
     ]
    }
   ],
   "source": [
    "print(\"Eculidean Distance: Review 1 vs Review 2:\", euclidean_distance(embedding[0], embedding[1]))\n",
    "print(\"Euclidean Distance: Review 1 vs Random Comment:\", euclidean_distance(embedding[0], embedding[2]))\n",
    "print(\"Euclidean Distance: Review 2 vs Random Comment:\", euclidean_distance(embedding[1], embedding[2]))"
   ]
  },
  {
   "cell_type": "code",
   "execution_count": 7,
   "id": "407720ab-37ae-4a07-9a25-6fb852ec8daf",
   "metadata": {},
   "outputs": [
    {
     "name": "stdout",
     "output_type": "stream",
     "text": [
      "Dot Product: Review 1 vs Review 2: 12.270498\n",
      "Dot Product: Review 1 vs Random Comment: -0.76546144\n",
      "Dot Product: Review 2 vs Random Comment: 0.95241034\n"
     ]
    }
   ],
   "source": [
    "print(\"Dot Product: Review 1 vs Review 2:\", np.dot(embedding[0], embedding[1]))\n",
    "print(\"Dot Product: Review 1 vs Random Comment:\", np.dot(embedding[0], embedding[2]))\n",
    "print(\"Dot Product: Review 2 vs Random Comment:\", np.dot(embedding[1], embedding[2]))"
   ]
  },
  {
   "cell_type": "code",
   "execution_count": 8,
   "id": "9a50ae77-d57d-41d1-980e-6688b656618e",
   "metadata": {},
   "outputs": [],
   "source": [
    "def cosine_distance(vec1, vec2):\n",
    "    cosine = 1 - abs((np.dot(vec1, vec2)/(np.linalg.norm(vec1)*np.linalg.norm(vec2))))\n",
    "    return cosine"
   ]
  },
  {
   "cell_type": "code",
   "execution_count": 10,
   "id": "e4dc7f5b-d978-4239-816f-02476300b733",
   "metadata": {},
   "outputs": [
    {
     "name": "stdout",
     "output_type": "stream",
     "text": [
      "Cosine Distance: Review 1 vs Review 2: 0.4523802399635315\n",
      "Cosine Distance: Review 1 vs Random Comment: 0.970455652102828\n",
      "Cosine Distance: Review 2 vs Random Comment: 0.9542623125016689\n"
     ]
    }
   ],
   "source": [
    "print(\"Cosine Distance: Review 1 vs Review 2:\", cosine_distance(embedding[0], embedding[1]))\n",
    "print(\"Cosine Distance: Review 1 vs Random Comment:\", cosine_distance(embedding[0], embedding[2]))\n",
    "print(\"Cosine Distance: Review 2 vs Random Comment:\", cosine_distance(embedding[1], embedding[2]))\n"
   ]
  },
  {
   "cell_type": "code",
   "execution_count": null,
   "id": "29e3dd5d-527f-4768-80e5-b1e8b3de0583",
   "metadata": {},
   "outputs": [],
   "source": []
  }
 ],
 "metadata": {
  "kernelspec": {
   "display_name": "Python 3 (ipykernel)",
   "language": "python",
   "name": "python3"
  },
  "language_info": {
   "codemirror_mode": {
    "name": "ipython",
    "version": 3
   },
   "file_extension": ".py",
   "mimetype": "text/x-python",
   "name": "python",
   "nbconvert_exporter": "python",
   "pygments_lexer": "ipython3",
   "version": "3.12.0"
  }
 },
 "nbformat": 4,
 "nbformat_minor": 5
}
